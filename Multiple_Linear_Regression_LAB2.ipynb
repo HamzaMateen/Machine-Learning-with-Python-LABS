{
  "nbformat": 4,
  "nbformat_minor": 0,
  "metadata": {
    "colab": {
      "name": "Multiple Linear Regression LAB2.ipynb",
      "provenance": [],
      "collapsed_sections": []
    },
    "kernelspec": {
      "name": "python3",
      "display_name": "Python 3"
    }
  },
  "cells": [
    {
      "cell_type": "markdown",
      "metadata": {
        "id": "Y0AOsutEmE_h",
        "colab_type": "text"
      },
      "source": [
        "!Python Project\n",
        "Multiple Linear Regression - Predicting CO2 Emission for Cars\n",
        "given their various features"
      ]
    },
    {
      "cell_type": "code",
      "metadata": {
        "id": "zR6d3EyPmKkR",
        "colab_type": "code",
        "outputId": "15b67cb6-8106-4fd6-e458-f758ed9a9046",
        "colab": {
          "base_uri": "https://localhost:8080/",
          "height": 219
        }
      },
      "source": [
        "# Importing required libraries\n",
        "import pylab as pl\n",
        "import pandas as pd\n",
        "import numpy as np\n",
        "import matplotlib.pyplot as plt\n",
        "%matplotlib inline \n",
        "\n",
        "# Downloading the data\n",
        "!wget -O FuelConsumption.csv https://s3-api.us-geo.objectstorage.softlayer.net/cf-courses-data/CognitiveClass/ML0101ENv3/labs/FuelConsumptionCo2.csv\n"
      ],
      "execution_count": 0,
      "outputs": [
        {
          "output_type": "stream",
          "text": [
            "--2020-06-14 06:16:08--  https://s3-api.us-geo.objectstorage.softlayer.net/cf-courses-data/CognitiveClass/ML0101ENv3/labs/FuelConsumptionCo2.csv\n",
            "Resolving s3-api.us-geo.objectstorage.softlayer.net (s3-api.us-geo.objectstorage.softlayer.net)... 67.228.254.196\n",
            "Connecting to s3-api.us-geo.objectstorage.softlayer.net (s3-api.us-geo.objectstorage.softlayer.net)|67.228.254.196|:443... connected.\n",
            "HTTP request sent, awaiting response... 200 OK\n",
            "Length: 72629 (71K) [text/csv]\n",
            "Saving to: ‘FuelConsumption.csv’\n",
            "\n",
            "\rFuelConsumption.csv   0%[                    ]       0  --.-KB/s               \rFuelConsumption.csv 100%[===================>]  70.93K  --.-KB/s    in 0.02s   \n",
            "\n",
            "2020-06-14 06:16:08 (2.83 MB/s) - ‘FuelConsumption.csv’ saved [72629/72629]\n",
            "\n"
          ],
          "name": "stdout"
        }
      ]
    },
    {
      "cell_type": "code",
      "metadata": {
        "id": "BWbTvqZdnQZf",
        "colab_type": "code",
        "outputId": "2b1a3ec9-c1fc-4c0f-cc10-d5759e98a452",
        "colab": {
          "base_uri": "https://localhost:8080/",
          "height": 278
        }
      },
      "source": [
        "# Reading the data\n",
        "df = pd.read_csv(\"FuelConsumption.csv\")\n",
        "\n",
        "# Understanding the data\n",
        "df.head(5)"
      ],
      "execution_count": 0,
      "outputs": [
        {
          "output_type": "execute_result",
          "data": {
            "text/html": [
              "<div>\n",
              "<style scoped>\n",
              "    .dataframe tbody tr th:only-of-type {\n",
              "        vertical-align: middle;\n",
              "    }\n",
              "\n",
              "    .dataframe tbody tr th {\n",
              "        vertical-align: top;\n",
              "    }\n",
              "\n",
              "    .dataframe thead th {\n",
              "        text-align: right;\n",
              "    }\n",
              "</style>\n",
              "<table border=\"1\" class=\"dataframe\">\n",
              "  <thead>\n",
              "    <tr style=\"text-align: right;\">\n",
              "      <th></th>\n",
              "      <th>MODELYEAR</th>\n",
              "      <th>MAKE</th>\n",
              "      <th>MODEL</th>\n",
              "      <th>VEHICLECLASS</th>\n",
              "      <th>ENGINESIZE</th>\n",
              "      <th>CYLINDERS</th>\n",
              "      <th>TRANSMISSION</th>\n",
              "      <th>FUELTYPE</th>\n",
              "      <th>FUELCONSUMPTION_CITY</th>\n",
              "      <th>FUELCONSUMPTION_HWY</th>\n",
              "      <th>FUELCONSUMPTION_COMB</th>\n",
              "      <th>FUELCONSUMPTION_COMB_MPG</th>\n",
              "      <th>CO2EMISSIONS</th>\n",
              "    </tr>\n",
              "  </thead>\n",
              "  <tbody>\n",
              "    <tr>\n",
              "      <th>0</th>\n",
              "      <td>2014</td>\n",
              "      <td>ACURA</td>\n",
              "      <td>ILX</td>\n",
              "      <td>COMPACT</td>\n",
              "      <td>2.0</td>\n",
              "      <td>4</td>\n",
              "      <td>AS5</td>\n",
              "      <td>Z</td>\n",
              "      <td>9.9</td>\n",
              "      <td>6.7</td>\n",
              "      <td>8.5</td>\n",
              "      <td>33</td>\n",
              "      <td>196</td>\n",
              "    </tr>\n",
              "    <tr>\n",
              "      <th>1</th>\n",
              "      <td>2014</td>\n",
              "      <td>ACURA</td>\n",
              "      <td>ILX</td>\n",
              "      <td>COMPACT</td>\n",
              "      <td>2.4</td>\n",
              "      <td>4</td>\n",
              "      <td>M6</td>\n",
              "      <td>Z</td>\n",
              "      <td>11.2</td>\n",
              "      <td>7.7</td>\n",
              "      <td>9.6</td>\n",
              "      <td>29</td>\n",
              "      <td>221</td>\n",
              "    </tr>\n",
              "    <tr>\n",
              "      <th>2</th>\n",
              "      <td>2014</td>\n",
              "      <td>ACURA</td>\n",
              "      <td>ILX HYBRID</td>\n",
              "      <td>COMPACT</td>\n",
              "      <td>1.5</td>\n",
              "      <td>4</td>\n",
              "      <td>AV7</td>\n",
              "      <td>Z</td>\n",
              "      <td>6.0</td>\n",
              "      <td>5.8</td>\n",
              "      <td>5.9</td>\n",
              "      <td>48</td>\n",
              "      <td>136</td>\n",
              "    </tr>\n",
              "    <tr>\n",
              "      <th>3</th>\n",
              "      <td>2014</td>\n",
              "      <td>ACURA</td>\n",
              "      <td>MDX 4WD</td>\n",
              "      <td>SUV - SMALL</td>\n",
              "      <td>3.5</td>\n",
              "      <td>6</td>\n",
              "      <td>AS6</td>\n",
              "      <td>Z</td>\n",
              "      <td>12.7</td>\n",
              "      <td>9.1</td>\n",
              "      <td>11.1</td>\n",
              "      <td>25</td>\n",
              "      <td>255</td>\n",
              "    </tr>\n",
              "    <tr>\n",
              "      <th>4</th>\n",
              "      <td>2014</td>\n",
              "      <td>ACURA</td>\n",
              "      <td>RDX AWD</td>\n",
              "      <td>SUV - SMALL</td>\n",
              "      <td>3.5</td>\n",
              "      <td>6</td>\n",
              "      <td>AS6</td>\n",
              "      <td>Z</td>\n",
              "      <td>12.1</td>\n",
              "      <td>8.7</td>\n",
              "      <td>10.6</td>\n",
              "      <td>27</td>\n",
              "      <td>244</td>\n",
              "    </tr>\n",
              "  </tbody>\n",
              "</table>\n",
              "</div>"
            ],
            "text/plain": [
              "   MODELYEAR   MAKE  ... FUELCONSUMPTION_COMB_MPG CO2EMISSIONS\n",
              "0       2014  ACURA  ...                       33          196\n",
              "1       2014  ACURA  ...                       29          221\n",
              "2       2014  ACURA  ...                       48          136\n",
              "3       2014  ACURA  ...                       25          255\n",
              "4       2014  ACURA  ...                       27          244\n",
              "\n",
              "[5 rows x 13 columns]"
            ]
          },
          "metadata": {
            "tags": []
          },
          "execution_count": 16
        }
      ]
    },
    {
      "cell_type": "code",
      "metadata": {
        "id": "sUqMD3Fzn2wW",
        "colab_type": "code",
        "outputId": "3d4a0256-c0d0-467d-efea-52af685648f4",
        "colab": {
          "base_uri": "https://localhost:8080/",
          "height": 295
        }
      },
      "source": [
        "# Selecting the features that we need to use for Regression\n",
        "cdf = df[[\"ENGINESIZE\", \"CYLINDERS\", \"FUELCONSUMPTION_CITY\", \"FUELCONSUMPTION_HWY\", \"FUELCONSUMPTION_COMB\", \"CO2EMISSIONS\"]]\n",
        "\n",
        "# Plotting EngineSize against Emission values\n",
        "plt.scatter(cdf.ENGINESIZE, cdf.CO2EMISSIONS, color = \"blue\")\n",
        "plt.title(\"Total Data Distribution\")\n",
        "plt.xlabel(\"Engine Size (Units)\")\n",
        "plt.ylabel(\"CO2 Emission (g/km)\")\n",
        "\n",
        "plt.show()"
      ],
      "execution_count": 0,
      "outputs": [
        {
          "output_type": "display_data",
          "data": {
            "image/png": "[encoded data removed]",
            "text/plain": [
              "<Figure size 432x288 with 1 Axes>"
            ]
          },
          "metadata": {
            "tags": [],
            "needs_background": "light"
          }
        }
      ]
    },
    {
      "cell_type": "code",
      "metadata": {
        "id": "a3e5FLWHoidt",
        "colab_type": "code",
        "outputId": "4173fd9e-057e-4c16-830c-3f7631ad153d",
        "colab": {
          "base_uri": "https://localhost:8080/",
          "height": 513
        }
      },
      "source": [
        "# Creating train and test dataset. \n",
        "# Using 80% of data as training while 20% of data as test data\n",
        "rands = np.random.rand(len(cdf)) \n",
        "msk = rands < 0.8\n",
        "train, test = cdf[msk], cdf[~msk]\n",
        "\n",
        "print(train, test)"
      ],
      "execution_count": 0,
      "outputs": [
        {
          "output_type": "stream",
          "text": [
            "      ENGINESIZE  CYLINDERS  ...  FUELCONSUMPTION_COMB  CO2EMISSIONS\n",
            "0            2.0          4  ...                   8.5           196\n",
            "1            2.4          4  ...                   9.6           221\n",
            "2            1.5          4  ...                   5.9           136\n",
            "3            3.5          6  ...                  11.1           255\n",
            "4            3.5          6  ...                  10.6           244\n",
            "...          ...        ...  ...                   ...           ...\n",
            "1062         3.0          6  ...                  11.8           271\n",
            "1063         3.2          6  ...                  11.5           264\n",
            "1064         3.0          6  ...                  11.8           271\n",
            "1065         3.2          6  ...                  11.3           260\n",
            "1066         3.2          6  ...                  12.8           294\n",
            "\n",
            "[861 rows x 6 columns]       ENGINESIZE  CYLINDERS  ...  FUELCONSUMPTION_COMB  CO2EMISSIONS\n",
            "5            3.5          6  ...                  10.0           230\n",
            "8            3.7          6  ...                  11.6           267\n",
            "16           4.7          8  ...                  14.7           338\n",
            "20           2.0          4  ...                  10.0           230\n",
            "21           2.0          4  ...                   9.3           214\n",
            "...          ...        ...  ...                   ...           ...\n",
            "1039         2.0          4  ...                   9.2           212\n",
            "1040         2.0          4  ...                   6.9           186\n",
            "1047         3.6          6  ...                  10.8           248\n",
            "1049         2.0          4  ...                   6.8           184\n",
            "1051         2.0          4  ...                  10.7           246\n",
            "\n",
            "[206 rows x 6 columns]\n"
          ],
          "name": "stdout"
        }
      ]
    },
    {
      "cell_type": "code",
      "metadata": {
        "id": "RxQlLfaKqXvP",
        "colab_type": "code",
        "outputId": "ea36890d-ab51-4e86-adee-cf39c9bcf8fd",
        "colab": {
          "base_uri": "https://localhost:8080/",
          "height": 295
        }
      },
      "source": [
        "# Plotting the Training Data\n",
        "plt.scatter(train.ENGINESIZE, train.CO2EMISSIONS, color = \"blue\")\n",
        "plt.title(\"Training Data Distribution\")\n",
        "plt.xlabel(\"Engine Size (Units)\")\n",
        "plt.ylabel(\"CO2 Emission (g/km)\")\n",
        "\n",
        "plt.show()"
      ],
      "execution_count": 0,
      "outputs": [
        {
          "output_type": "display_data",
          "data": {
            "image/png": "[encoded data removed]",
            "text/plain": [
              "<Figure size 432x288 with 1 Axes>"
            ]
          },
          "metadata": {
            "tags": [],
            "needs_background": "light"
          }
        }
      ]
    },
    {
      "cell_type": "markdown",
      "metadata": {
        "id": "9TJDEbfMsMx_",
        "colab_type": "text"
      },
      "source": [
        "Applying the Multiple Linear Regression Model.\n",
        "Sklearn uses OLS to calculate the pramaters for the \"Hyperplane of Best Fit\""
      ]
    },
    {
      "cell_type": "code",
      "metadata": {
        "id": "FGTTDfvXs5M1",
        "colab_type": "code",
        "outputId": "2303fe03-3060-496e-d51e-553b8c70a768",
        "colab": {
          "base_uri": "https://localhost:8080/",
          "height": 35
        }
      },
      "source": [
        "from sklearn import linear_model\n",
        "regression_model = linear_model.LinearRegression()\n",
        "\n",
        "# specifying features and targets\n",
        "x = np.asanyarray(train[[\"ENGINESIZE\", \"CYLINDERS\", \"FUELCONSUMPTION_COMB\"]])\n",
        "y = np.asanyarray(train[[\"CO2EMISSIONS\"]])\n",
        "\n",
        "# Fitting a line into plane of features\n",
        "regression_model.fit(x, y)\n",
        "\n",
        "# Coefficients \n",
        "# print(\"Parameter: {}{}{}\".format([x for x in regression_model.coef_]))\n",
        "print(\"Intercept: {:.2f}\".format(regression_model.intercept_[0]))"
      ],
      "execution_count": 0,
      "outputs": [
        {
          "output_type": "stream",
          "text": [
            "Intercept: 64.95\n"
          ],
          "name": "stdout"
        }
      ]
    },
    {
      "cell_type": "markdown",
      "metadata": {
        "id": "C8piJWfFt2dV",
        "colab_type": "text"
      },
      "source": [
        "Prediction on Test Data"
      ]
    },
    {
      "cell_type": "code",
      "metadata": {
        "id": "_WwSJkykfoLu",
        "colab_type": "code",
        "colab": {}
      },
      "source": [
        "y_hat = regression_model.predict(test[[\"ENGINESIZE\", \"CYLINDERS\", \"FUELCONSUMPTION_COMB\"]])\n",
        "x = np.asanyarray(test[['ENGINESIZE','CYLINDERS','FUELCONSUMPTION_COMB']])\n",
        "y = np.asanyarray(test[['CO2EMISSIONS']])"
      ],
      "execution_count": 0,
      "outputs": []
    },
    {
      "cell_type": "markdown",
      "metadata": {
        "id": "tgPFdkpKgFwF",
        "colab_type": "text"
      },
      "source": [
        "Evaluation \n"
      ]
    },
    {
      "cell_type": "code",
      "metadata": {
        "id": "NQbj9x0ChAan",
        "colab_type": "code",
        "outputId": "f482d98f-c27b-4a30-8216-6ef0c4e54873",
        "colab": {
          "base_uri": "https://localhost:8080/",
          "height": 54
        }
      },
      "source": [
        "# Evaluation Metric MSSR\n",
        "print(\"Mean Sum of Residual Squares: {:.2f}\".format(np.mean((y_hat - y)**2)))\n",
        "\n",
        "# Explained variance score: 1 signifies perfect prediction\n",
        "print(\"explained variance: {:.2f}\".format(regression_model.score(x, y)))"
      ],
      "execution_count": 0,
      "outputs": [
        {
          "output_type": "stream",
          "text": [
            "Mean Sum of Residual Squares: 521.16\n",
            "explained variance: 0.87\n"
          ],
          "name": "stdout"
        }
      ]
    },
    {
      "cell_type": "markdown",
      "metadata": {
        "id": "1vyLlC-XILL7",
        "colab_type": "text"
      },
      "source": [
        "Our model is 87% accurate"
      ]
    },
    {
      "cell_type": "markdown",
      "metadata": {
        "id": "ztTDKYgCIb9r",
        "colab_type": "text"
      },
      "source": [
        "**PRACTICE TIME**\n",
        "Trying to use a multiple linear regression with the same dataset but this time using __FUEL CONSUMPTION in CITY__ and __FUEL CONSUMPTION in HWY__ instead of FUELCONSUMPTION_COMB. \n",
        "\n"
      ]
    },
    {
      "cell_type": "code",
      "metadata": {
        "id": "vvfW3CzJIvVj",
        "colab_type": "code",
        "colab": {}
      },
      "source": [
        ""
      ],
      "execution_count": 0,
      "outputs": []
    }
  ]
}